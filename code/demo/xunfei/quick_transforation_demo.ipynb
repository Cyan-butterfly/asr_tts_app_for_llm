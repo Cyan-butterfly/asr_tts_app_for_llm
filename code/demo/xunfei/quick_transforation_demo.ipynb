{
 "cells": [
  {
   "cell_type": "code",
   "execution_count": 8,
   "metadata": {},
   "outputs": [
    {
     "name": "stdout",
     "output_type": "stream",
     "text": [
      "Conversion complete: D:\\BaiduSyncdisk\\mywork\\asr\\code\\demo\\xunfei\\demo_1.mp3 -> D:\\BaiduSyncdisk\\mywork\\asr\\code\\demo\\xunfei\\output_16k_16bit_mono3.pcm\n"
     ]
    }
   ],
   "source": [
    "import ffmpeg\n",
    "\n",
    "# ffmpeg.probe(r'D:\\BaiduSyncdisk\\mywork\\asr\\code\\demo\\xunfei\\demo_1.mp3')\n",
    "input_file = r'D:\\BaiduSyncdisk\\mywork\\asr\\code\\demo\\xunfei\\demo_1.mp3'\n",
    "output_file = r'D:\\BaiduSyncdisk\\mywork\\asr\\code\\demo\\xunfei\\output_16k_16bit_mono3.pcm'\n",
    "\n",
    "\n",
    "try:\n",
    "    # 使用ffmpeg进行转换，输出为PCM格式，指定采样率、声道数和位深度\n",
    "    ffmpeg.input(input_file).output(output_file, ar=16000, ac=1, sample_fmt='s16').run()\n",
    "    print(f\"Conversion complete: {input_file} -> {output_file}\")\n",
    "except ffmpeg.Error as e:\n",
    "    # 捕获并显示错误信息\n",
    "    print('Error occurred during conversion:')\n",
    "    if e.stdout:\n",
    "        print(\"Standard Output:\", e.stdout.decode())\n",
    "    if e.stderr:\n",
    "        print(\"Standard Error:\", e.stderr.decode())\n",
    "    else:\n",
    "        print(\"No error output available.\")"
   ]
  },
  {
   "cell_type": "markdown",
   "metadata": {},
   "source": []
  },
  {
   "cell_type": "code",
   "execution_count": null,
   "metadata": {},
   "outputs": [],
   "source": []
  },
  {
   "cell_type": "code",
   "execution_count": null,
   "metadata": {},
   "outputs": [],
   "source": []
  }
 ],
 "metadata": {
  "kernelspec": {
   "display_name": "asr_business_demo",
   "language": "python",
   "name": "python3"
  },
  "language_info": {
   "codemirror_mode": {
    "name": "ipython",
    "version": 3
   },
   "file_extension": ".py",
   "mimetype": "text/x-python",
   "name": "python",
   "nbconvert_exporter": "python",
   "pygments_lexer": "ipython3",
   "version": "3.7.1"
  }
 },
 "nbformat": 4,
 "nbformat_minor": 2
}
