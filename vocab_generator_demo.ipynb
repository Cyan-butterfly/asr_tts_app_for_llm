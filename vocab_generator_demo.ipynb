{
 "cells": [
  {
   "cell_type": "code",
   "execution_count": 4,
   "metadata": {},
   "outputs": [
    {
     "data": {
      "text/plain": [
       "('my_tokenizer\\\\tokenizer_config.json',\n",
       " 'my_tokenizer\\\\special_tokens_map.json',\n",
       " 'my_tokenizer\\\\vocab.json',\n",
       " 'my_tokenizer\\\\added_tokens.json')"
      ]
     },
     "execution_count": 4,
     "metadata": {},
     "output_type": "execute_result"
    }
   ],
   "source": [
    "from transformers import Wav2Vec2CTCTokenizer\n",
    "import json\n",
    "# 定义一个字符级别的 vocab\n",
    "vocab_dict = {\n",
    "    \"[UNK]\": 0,  # 未知字符\n",
    "    \"[PAD]\": 1,  # 填充字符\n",
    "    \"你\": 2,\n",
    "    \"好\": 3,\n",
    "    \"世\": 4,\n",
    "    \"界\": 5,\n",
    "    # ... 添加你任务需要的所有字符\n",
    "}\n",
    "\n",
    "# 保存 vocab 到本地文件\n",
    "with open(\"vocab.json\", \"w\", encoding=\"utf-8\") as vocab_file:\n",
    "    json.dump(vocab_dict, vocab_file, ensure_ascii=False)\n",
    "\n",
    "# 创建 tokenizer\n",
    "tokenizer = Wav2Vec2CTCTokenizer(\n",
    "    \"vocab.json\", unk_token=\"[UNK]\", pad_token=\"[PAD]\", word_delimiter_token=\"|\"\n",
    ")\n",
    "\n",
    "# 保存 tokenizer\n",
    "tokenizer.save_pretrained(\"my_tokenizer\")"
   ]
  }
 ],
 "metadata": {
  "kernelspec": {
   "display_name": "wav2vec_env",
   "language": "python",
   "name": "python3"
  },
  "language_info": {
   "codemirror_mode": {
    "name": "ipython",
    "version": 3
   },
   "file_extension": ".py",
   "mimetype": "text/x-python",
   "name": "python",
   "nbconvert_exporter": "python",
   "pygments_lexer": "ipython3",
   "version": "3.10.16"
  }
 },
 "nbformat": 4,
 "nbformat_minor": 2
}
